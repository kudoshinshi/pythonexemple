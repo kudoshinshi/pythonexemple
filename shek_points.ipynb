{
  "nbformat": 4,
  "nbformat_minor": 0,
  "metadata": {
    "colab": {
      "name": "shek points",
      "provenance": []
    },
    "kernelspec": {
      "name": "python3",
      "display_name": "Python 3"
    },
    "language_info": {
      "name": "python"
    }
  },
  "cells": [
    {
      "cell_type": "markdown",
      "source": [
        "# "
      ],
      "metadata": {
        "id": "Qt8AJI44yrEM"
      }
    },
    {
      "cell_type": "code",
      "execution_count": 2,
      "metadata": {
        "colab": {
          "base_uri": "https://localhost:8080/"
        },
        "id": "PIxaCamruWpu",
        "outputId": "12efc6a2-d06c-48f9-f873-2da82eec034a"
      },
      "outputs": [
        {
          "output_type": "stream",
          "name": "stdout",
          "text": [
            "welcom to python world let's start coding\n"
          ]
        }
      ],
      "source": [
        "print(\"welcom to python world let's start coding\")"
      ]
    },
    {
      "cell_type": "markdown",
      "source": [
        "the extention is ipynd"
      ],
      "metadata": {
        "id": "rJTIYXJnxSdE"
      }
    },
    {
      "cell_type": "code",
      "source": [
        ""
      ],
      "metadata": {
        "id": "E3YSJanqySYw"
      },
      "execution_count": null,
      "outputs": []
    }
  ]
}